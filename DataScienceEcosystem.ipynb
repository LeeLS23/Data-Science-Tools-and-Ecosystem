{
 "cells": [
  {
   "cell_type": "markdown",
   "id": "b50aa3d5-9570-43dd-8af5-1b2b9108f0cd",
   "metadata": {
    "tags": []
   },
   "source": [
    "# Data Science Tools and Ecosystem"
   ]
  },
  {
   "cell_type": "markdown",
   "id": "26669724-b91e-4dae-99e3-3890384e6ce1",
   "metadata": {},
   "source": [
    "Welcome to the digital realm where we dive into the exciting world of Data Science Tools and Ecosystem which summarized elegantly in this notebook."
   ]
  },
  {
   "cell_type": "markdown",
   "id": "0a54e5a7-7dc3-4b6f-91bd-3c8bfd788511",
   "metadata": {},
   "source": [
    "Some of the popular languages that Data Scientists use are:\n",
    "\n",
    "1. Python \n",
    "2. R \n",
    "3. SQL \n",
    "4. Julia \n"
   ]
  },
  {
   "cell_type": "markdown",
   "id": "f442e1d2-b3d3-42f0-b0c9-8d84c1ba7b61",
   "metadata": {
    "tags": []
   },
   "source": [
    "Some of the commonly used libraries used by Data Scientists include:\n",
    "\n",
    "1. Pandas \n",
    "2. NumPy \n",
    "3. Matplotlib\n",
    "4. Scikit-Learn \n",
    "5. TensorFlow \n",
    "\n"
   ]
  },
  {
   "cell_type": "markdown",
   "id": "7086e70b-a1b8-4aa8-aa4e-2db57ead0f09",
   "metadata": {},
   "source": [
    "| Data Science Tools   |\n",
    "|----------------------|\n",
    "| Jupyter Notebooks    |\n",
    "| RStudio              |\n",
    "| Apache Zeppelin      |\n"
   ]
  },
  {
   "cell_type": "markdown",
   "id": "eddd87c3-c7b2-45f5-b882-9261f2a78c50",
   "metadata": {},
   "source": [
    "### Below are a few examples of evaluating arithmetic expressions in Python.\n"
   ]
  },
  {
   "cell_type": "markdown",
   "id": "6509946b-0421-412f-ba23-36d5312921f1",
   "metadata": {},
   "source": [
    "This a simple arithmetic expression to mutiply then add integers"
   ]
  },
  {
   "cell_type": "code",
   "execution_count": 4,
   "id": "fb5fc67a-2f89-48af-a371-cf4a86507959",
   "metadata": {
    "tags": []
   },
   "outputs": [
    {
     "data": {
      "text/plain": [
       "17"
      ]
     },
     "execution_count": 4,
     "metadata": {},
     "output_type": "execute_result"
    }
   ],
   "source": [
    "(3*4)+5"
   ]
  },
  {
   "cell_type": "markdown",
   "id": "a81a57d7-5e52-406a-bbd3-83cc49a5e950",
   "metadata": {},
   "source": [
    "This will convert 200 minutes to hours by diving by 60"
   ]
  },
  {
   "cell_type": "code",
   "execution_count": 5,
   "id": "83928e79-e294-462c-a6e9-04e78096334c",
   "metadata": {
    "tags": []
   },
   "outputs": [
    {
     "data": {
      "text/plain": [
       "3.3333333333333335"
      ]
     },
     "execution_count": 5,
     "metadata": {},
     "output_type": "execute_result"
    }
   ],
   "source": [
    "200 / 60"
   ]
  },
  {
   "cell_type": "markdown",
   "id": "8c3528e8-df4c-4b87-a67f-b3ffef681e47",
   "metadata": {},
   "source": [
    "**Objectives:**\n",
    "\n",
    "- List popular languages for Data Science.\n",
    "- Highlight commonly used Data Science libraries.\n",
    "- Demonstrate basic arithmetic operations in Python.\n",
    "- Show how to convert minutes to hours using Python.\n",
    "- Present a table of essential Data Science tools.\n"
   ]
  },
  {
   "cell_type": "markdown",
   "id": "a5b13d25-ae8e-4278-b233-5f9600c46f65",
   "metadata": {},
   "source": [
    "## Author\n",
    "\n",
    "Name: Lee Leong Shean\n"
   ]
  },
  {
   "cell_type": "code",
   "execution_count": null,
   "id": "e7e78693-1828-4d7a-bd06-df74451ffe89",
   "metadata": {},
   "outputs": [],
   "source": []
  }
 ],
 "metadata": {
  "kernelspec": {
   "display_name": "Python",
   "language": "python",
   "name": "conda-env-python-py"
  },
  "language_info": {
   "codemirror_mode": {
    "name": "ipython",
    "version": 3
   },
   "file_extension": ".py",
   "mimetype": "text/x-python",
   "name": "python",
   "nbconvert_exporter": "python",
   "pygments_lexer": "ipython3",
   "version": "3.7.12"
  }
 },
 "nbformat": 4,
 "nbformat_minor": 5
}
